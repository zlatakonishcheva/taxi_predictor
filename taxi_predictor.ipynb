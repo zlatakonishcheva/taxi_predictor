{
 "cells": [
  {
   "cell_type": "markdown",
   "metadata": {},
   "source": [
    "# Проект для компании «Чётенькое такси»"
   ]
  },
  {
   "cell_type": "markdown",
   "metadata": {},
   "source": [
    "## Подготовка"
   ]
  },
  {
   "cell_type": "markdown",
   "metadata": {},
   "source": [
    "Подключаем необходимые библиотеки"
   ]
  },
  {
   "cell_type": "code",
   "execution_count": 124,
   "metadata": {},
   "outputs": [],
   "source": [
    "import pandas as pd\n",
    "import numpy as np\n",
    "import warnings\n",
    "warnings.filterwarnings('ignore')\n",
    "\n",
    "from statsmodels.tsa.seasonal import seasonal_decompose\n",
    "import matplotlib.pyplot as plt\n",
    "\n",
    "from sklearn.model_selection import train_test_split\n",
    "from sklearn.metrics import mean_squared_error\n",
    "\n",
    "from sklearn.tree import DecisionTreeRegressor\n",
    "from sklearn.ensemble import RandomForestRegressor"
   ]
  },
  {
   "cell_type": "markdown",
   "metadata": {},
   "source": [
    "Импортируем предоставленные данные методом read_csv() в переменную df, выводим общую информацию методом info(), выведем первые 5 строк датафреймов методом head()"
   ]
  },
  {
   "cell_type": "code",
   "execution_count": 2,
   "metadata": {
    "scrolled": true
   },
   "outputs": [
    {
     "name": "stdout",
     "output_type": "stream",
     "text": [
      "<class 'pandas.core.frame.DataFrame'>\n",
      "DatetimeIndex: 26496 entries, 2018-03-01 00:00:00 to 2018-08-31 23:50:00\n",
      "Data columns (total 1 columns):\n",
      "num_orders    26496 non-null int64\n",
      "dtypes: int64(1)\n",
      "memory usage: 414.0 KB\n"
     ]
    },
    {
     "data": {
      "text/html": [
       "<div>\n",
       "<style scoped>\n",
       "    .dataframe tbody tr th:only-of-type {\n",
       "        vertical-align: middle;\n",
       "    }\n",
       "\n",
       "    .dataframe tbody tr th {\n",
       "        vertical-align: top;\n",
       "    }\n",
       "\n",
       "    .dataframe thead th {\n",
       "        text-align: right;\n",
       "    }\n",
       "</style>\n",
       "<table border=\"1\" class=\"dataframe\">\n",
       "  <thead>\n",
       "    <tr style=\"text-align: right;\">\n",
       "      <th></th>\n",
       "      <th>num_orders</th>\n",
       "    </tr>\n",
       "    <tr>\n",
       "      <th>datetime</th>\n",
       "      <th></th>\n",
       "    </tr>\n",
       "  </thead>\n",
       "  <tbody>\n",
       "    <tr>\n",
       "      <td>2018-03-01 00:00:00</td>\n",
       "      <td>9</td>\n",
       "    </tr>\n",
       "    <tr>\n",
       "      <td>2018-03-01 00:10:00</td>\n",
       "      <td>14</td>\n",
       "    </tr>\n",
       "    <tr>\n",
       "      <td>2018-03-01 00:20:00</td>\n",
       "      <td>28</td>\n",
       "    </tr>\n",
       "    <tr>\n",
       "      <td>2018-03-01 00:30:00</td>\n",
       "      <td>20</td>\n",
       "    </tr>\n",
       "    <tr>\n",
       "      <td>2018-03-01 00:40:00</td>\n",
       "      <td>32</td>\n",
       "    </tr>\n",
       "  </tbody>\n",
       "</table>\n",
       "</div>"
      ],
      "text/plain": [
       "                     num_orders\n",
       "datetime                       \n",
       "2018-03-01 00:00:00           9\n",
       "2018-03-01 00:10:00          14\n",
       "2018-03-01 00:20:00          28\n",
       "2018-03-01 00:30:00          20\n",
       "2018-03-01 00:40:00          32"
      ]
     },
     "execution_count": 2,
     "metadata": {},
     "output_type": "execute_result"
    }
   ],
   "source": [
    "df = pd.read_csv('/datasets/taxi.csv', index_col = [0], parse_dates = [0])\n",
    "df.info()\n",
    "df.head()"
   ]
  },
  {
   "cell_type": "markdown",
   "metadata": {},
   "source": [
    "Выведем общую информацию о данных методом describe()"
   ]
  },
  {
   "cell_type": "code",
   "execution_count": 3,
   "metadata": {},
   "outputs": [
    {
     "data": {
      "text/html": [
       "<div>\n",
       "<style scoped>\n",
       "    .dataframe tbody tr th:only-of-type {\n",
       "        vertical-align: middle;\n",
       "    }\n",
       "\n",
       "    .dataframe tbody tr th {\n",
       "        vertical-align: top;\n",
       "    }\n",
       "\n",
       "    .dataframe thead th {\n",
       "        text-align: right;\n",
       "    }\n",
       "</style>\n",
       "<table border=\"1\" class=\"dataframe\">\n",
       "  <thead>\n",
       "    <tr style=\"text-align: right;\">\n",
       "      <th></th>\n",
       "      <th>num_orders</th>\n",
       "    </tr>\n",
       "  </thead>\n",
       "  <tbody>\n",
       "    <tr>\n",
       "      <td>count</td>\n",
       "      <td>26496.000000</td>\n",
       "    </tr>\n",
       "    <tr>\n",
       "      <td>mean</td>\n",
       "      <td>14.070463</td>\n",
       "    </tr>\n",
       "    <tr>\n",
       "      <td>std</td>\n",
       "      <td>9.211330</td>\n",
       "    </tr>\n",
       "    <tr>\n",
       "      <td>min</td>\n",
       "      <td>0.000000</td>\n",
       "    </tr>\n",
       "    <tr>\n",
       "      <td>25%</td>\n",
       "      <td>8.000000</td>\n",
       "    </tr>\n",
       "    <tr>\n",
       "      <td>50%</td>\n",
       "      <td>13.000000</td>\n",
       "    </tr>\n",
       "    <tr>\n",
       "      <td>75%</td>\n",
       "      <td>19.000000</td>\n",
       "    </tr>\n",
       "    <tr>\n",
       "      <td>max</td>\n",
       "      <td>119.000000</td>\n",
       "    </tr>\n",
       "  </tbody>\n",
       "</table>\n",
       "</div>"
      ],
      "text/plain": [
       "         num_orders\n",
       "count  26496.000000\n",
       "mean      14.070463\n",
       "std        9.211330\n",
       "min        0.000000\n",
       "25%        8.000000\n",
       "50%       13.000000\n",
       "75%       19.000000\n",
       "max      119.000000"
      ]
     },
     "execution_count": 3,
     "metadata": {},
     "output_type": "execute_result"
    }
   ],
   "source": [
    "df.describe()"
   ]
  },
  {
   "cell_type": "markdown",
   "metadata": {},
   "source": [
    "Выполним ресемплирование по одному часу с помощью метода resample()"
   ]
  },
  {
   "cell_type": "code",
   "execution_count": 4,
   "metadata": {},
   "outputs": [
    {
     "data": {
      "text/plain": [
       "<matplotlib.axes._subplots.AxesSubplot at 0x7facfcd84310>"
      ]
     },
     "execution_count": 4,
     "metadata": {},
     "output_type": "execute_result"
    },
    {
     "data": {
      "image/png": "[encoded data removed]",
      "text/plain": [
       "<Figure size 1440x432 with 1 Axes>"
      ]
     },
     "metadata": {
      "needs_background": "light"
     },
     "output_type": "display_data"
    }
   ],
   "source": [
    "df = df.resample('1H').sum()\n",
    "plt.figure(figsize = (20, 6))\n",
    "df['num_orders'].plot()"
   ]
  },
  {
   "cell_type": "markdown",
   "metadata": {},
   "source": [
    "Извлечем дополнительные признаки из столбца datetime и запишем их в новые столбцы"
   ]
  },
  {
   "cell_type": "code",
   "execution_count": 5,
   "metadata": {},
   "outputs": [],
   "source": [
    "def make_features(data):\n",
    "    data['year'] = data.index.year\n",
    "    data['month'] = data.index.month\n",
    "    data['day'] = data.index.day\n",
    "    data['dayofweek'] = data.index.dayofweek"
   ]
  },
  {
   "cell_type": "code",
   "execution_count": 6,
   "metadata": {},
   "outputs": [
    {
     "data": {
      "text/html": [
       "<div>\n",
       "<style scoped>\n",
       "    .dataframe tbody tr th:only-of-type {\n",
       "        vertical-align: middle;\n",
       "    }\n",
       "\n",
       "    .dataframe tbody tr th {\n",
       "        vertical-align: top;\n",
       "    }\n",
       "\n",
       "    .dataframe thead th {\n",
       "        text-align: right;\n",
       "    }\n",
       "</style>\n",
       "<table border=\"1\" class=\"dataframe\">\n",
       "  <thead>\n",
       "    <tr style=\"text-align: right;\">\n",
       "      <th></th>\n",
       "      <th>num_orders</th>\n",
       "      <th>year</th>\n",
       "      <th>month</th>\n",
       "      <th>day</th>\n",
       "      <th>dayofweek</th>\n",
       "    </tr>\n",
       "    <tr>\n",
       "      <th>datetime</th>\n",
       "      <th></th>\n",
       "      <th></th>\n",
       "      <th></th>\n",
       "      <th></th>\n",
       "      <th></th>\n",
       "    </tr>\n",
       "  </thead>\n",
       "  <tbody>\n",
       "    <tr>\n",
       "      <td>2018-03-01 00:00:00</td>\n",
       "      <td>124</td>\n",
       "      <td>2018</td>\n",
       "      <td>3</td>\n",
       "      <td>1</td>\n",
       "      <td>3</td>\n",
       "    </tr>\n",
       "    <tr>\n",
       "      <td>2018-03-01 01:00:00</td>\n",
       "      <td>85</td>\n",
       "      <td>2018</td>\n",
       "      <td>3</td>\n",
       "      <td>1</td>\n",
       "      <td>3</td>\n",
       "    </tr>\n",
       "    <tr>\n",
       "      <td>2018-03-01 02:00:00</td>\n",
       "      <td>71</td>\n",
       "      <td>2018</td>\n",
       "      <td>3</td>\n",
       "      <td>1</td>\n",
       "      <td>3</td>\n",
       "    </tr>\n",
       "    <tr>\n",
       "      <td>2018-03-01 03:00:00</td>\n",
       "      <td>66</td>\n",
       "      <td>2018</td>\n",
       "      <td>3</td>\n",
       "      <td>1</td>\n",
       "      <td>3</td>\n",
       "    </tr>\n",
       "    <tr>\n",
       "      <td>2018-03-01 04:00:00</td>\n",
       "      <td>43</td>\n",
       "      <td>2018</td>\n",
       "      <td>3</td>\n",
       "      <td>1</td>\n",
       "      <td>3</td>\n",
       "    </tr>\n",
       "  </tbody>\n",
       "</table>\n",
       "</div>"
      ],
      "text/plain": [
       "                     num_orders  year  month  day  dayofweek\n",
       "datetime                                                    \n",
       "2018-03-01 00:00:00         124  2018      3    1          3\n",
       "2018-03-01 01:00:00          85  2018      3    1          3\n",
       "2018-03-01 02:00:00          71  2018      3    1          3\n",
       "2018-03-01 03:00:00          66  2018      3    1          3\n",
       "2018-03-01 04:00:00          43  2018      3    1          3"
      ]
     },
     "execution_count": 6,
     "metadata": {},
     "output_type": "execute_result"
    }
   ],
   "source": [
    "make_features(df)\n",
    "df.head()"
   ]
  },
  {
   "cell_type": "markdown",
   "metadata": {},
   "source": [
    "### Вывод"
   ]
  },
  {
   "cell_type": "markdown",
   "metadata": {},
   "source": [
    "Данные были импортированны методом read_csv() с параметрами index_col = [0], parse_dates = [0] в датафрейм df, по результатам работы методом info() и describe() можно сделать следующие выводы:\n",
    "\n",
    "- одинаковое колличество строк свидетельствует об отсутствии дубликатов и пропусков\n",
    "- предположение выше подтверждает результат работы метода describe()\n",
    "- извлечем дополнительные признаки из столбца datetime и запишем их в новые столбцы\n",
    "- ресемплируем данные по одному часу с помощью метода resample()\n",
    "\n",
    "Таким образом можно заключить, что данные адекватны и не требуют подготовки к дальнейшему анализу"
   ]
  },
  {
   "cell_type": "markdown",
   "metadata": {},
   "source": [
    "## Анализ"
   ]
  },
  {
   "cell_type": "markdown",
   "metadata": {},
   "source": [
    "Выполним проверку того, находятся ли данные в хронологическом порядке с помощью метода is_monotonic()"
   ]
  },
  {
   "cell_type": "code",
   "execution_count": 7,
   "metadata": {},
   "outputs": [
    {
     "name": "stdout",
     "output_type": "stream",
     "text": [
      "True\n"
     ]
    }
   ],
   "source": [
    "df.sort_index(inplace = True)\n",
    "print(df.index.is_monotonic)"
   ]
  },
  {
   "cell_type": "markdown",
   "metadata": {},
   "source": [
    "Выведем график тренда, найденного с помощью метода seasonal_decompose()"
   ]
  },
  {
   "cell_type": "code",
   "execution_count": 8,
   "metadata": {},
   "outputs": [
    {
     "data": {
      "text/plain": [
       "<matplotlib.axes._subplots.AxesSubplot at 0x7ff221295c50>"
      ]
     },
     "execution_count": 8,
     "metadata": {},
     "output_type": "execute_result"
    },
    {
     "data": {
      "image/png": "[encoded data removed]",
      "text/plain": [
       "<Figure size 1440x432 with 1 Axes>"
      ]
     },
     "metadata": {
      "needs_background": "light"
     },
     "output_type": "display_data"
    }
   ],
   "source": [
    "decomposed = seasonal_decompose(df['num_orders'])\n",
    "plt.figure(figsize = (20, 6))\n",
    "decomposed.trend.plot(ax = plt.gca())"
   ]
  },
  {
   "cell_type": "markdown",
   "metadata": {},
   "source": [
    "Выведем график сезонности"
   ]
  },
  {
   "cell_type": "code",
   "execution_count": 9,
   "metadata": {},
   "outputs": [
    {
     "data": {
      "text/plain": [
       "<matplotlib.axes._subplots.AxesSubplot at 0x7ff220b3e2d0>"
      ]
     },
     "execution_count": 9,
     "metadata": {},
     "output_type": "execute_result"
    },
    {
     "data": {
      "image/png": "[encoded data removed]",
      "text/plain": [
       "<Figure size 1440x432 with 1 Axes>"
      ]
     },
     "metadata": {
      "needs_background": "light"
     },
     "output_type": "display_data"
    }
   ],
   "source": [
    "plt.figure(figsize = (20, 6))\n",
    "decomposed.seasonal.plot(ax = plt.gca())"
   ]
  },
  {
   "cell_type": "markdown",
   "metadata": {},
   "source": [
    "Выводем график остатков"
   ]
  },
  {
   "cell_type": "code",
   "execution_count": 10,
   "metadata": {},
   "outputs": [
    {
     "data": {
      "text/plain": [
       "<matplotlib.axes._subplots.AxesSubplot at 0x7ff22098a790>"
      ]
     },
     "execution_count": 10,
     "metadata": {},
     "output_type": "execute_result"
    },
    {
     "data": {
      "image/png": "[encoded data removed]",
      "text/plain": [
       "<Figure size 1440x432 with 1 Axes>"
      ]
     },
     "metadata": {
      "needs_background": "light"
     },
     "output_type": "display_data"
    }
   ],
   "source": [
    "plt.figure(figsize = (20, 6))\n",
    "decomposed.resid.plot(ax = plt.gca())"
   ]
  },
  {
   "cell_type": "markdown",
   "metadata": {},
   "source": [
    "### Вывод"
   ]
  },
  {
   "cell_type": "markdown",
   "metadata": {},
   "source": [
    "Данные были проанализорованны следующим образом:\n",
    "\n",
    "- была произведена проверка столбца datetime на соответствие хронологическому порядку; в результате проверки была выявленна хронология\n",
    "- был выведен график тренда, найденного с помощью метода seasonal_decompose(), по которому можно заключить, что колличество заказов такси уверенно увеличивается\n",
    "- график сезонности стационарен"
   ]
  },
  {
   "cell_type": "markdown",
   "metadata": {},
   "source": [
    "## Обучение"
   ]
  },
  {
   "cell_type": "markdown",
   "metadata": {},
   "source": [
    "Рассмотрим разное колличество сдвигов и средних и по критерию Пирсона отберем 10 самых важных"
   ]
  },
  {
   "cell_type": "code",
   "execution_count": 166,
   "metadata": {},
   "outputs": [
    {
     "name": "stdout",
     "output_type": "stream",
     "text": [
      "[37, 27, 62, 36, 60, 61, 59, 5, 28, 35, 0]\n"
     ]
    }
   ],
   "source": [
    "df_temp = df\n",
    "\n",
    "for lag in range(1, 30 + 1):\n",
    "    df_temp['lag_{}'.format(lag)] = df['num_orders'].shift(lag)\n",
    "        \n",
    "for size in range (1, 30 + 1):\n",
    "    df_temp['rolling_{}'.format(size)] = df['num_orders'].shift().rolling(size).mean()\n",
    "\n",
    "matrix = df_temp.corr().values\n",
    "matrix[0, 1] = 0\n",
    "matrix[0, 0] = 0\n",
    "corr_list = matrix[0, :]\n",
    "corr_list = np.array(corr_list.tolist())\n",
    "ind = np.argpartition(corr_list, -10)[-10:].tolist()\n",
    "begin_list = [0]\n",
    "ind.extend(begin_list)\n",
    "print(ind)"
   ]
  },
  {
   "cell_type": "code",
   "execution_count": 167,
   "metadata": {},
   "outputs": [
    {
     "data": {
      "text/html": [
       "<div>\n",
       "<style scoped>\n",
       "    .dataframe tbody tr th:only-of-type {\n",
       "        vertical-align: middle;\n",
       "    }\n",
       "\n",
       "    .dataframe tbody tr th {\n",
       "        vertical-align: top;\n",
       "    }\n",
       "\n",
       "    .dataframe thead th {\n",
       "        text-align: right;\n",
       "    }\n",
       "</style>\n",
       "<table border=\"1\" class=\"dataframe\">\n",
       "  <thead>\n",
       "    <tr style=\"text-align: right;\">\n",
       "      <th></th>\n",
       "      <th>rolling_3</th>\n",
       "      <th>lag_23</th>\n",
       "      <th>rolling_28</th>\n",
       "      <th>rolling_2</th>\n",
       "      <th>rolling_26</th>\n",
       "      <th>rolling_27</th>\n",
       "      <th>rolling_25</th>\n",
       "      <th>lag_1</th>\n",
       "      <th>lag_24</th>\n",
       "      <th>rolling_1</th>\n",
       "      <th>num_orders</th>\n",
       "    </tr>\n",
       "    <tr>\n",
       "      <th>datetime</th>\n",
       "      <th></th>\n",
       "      <th></th>\n",
       "      <th></th>\n",
       "      <th></th>\n",
       "      <th></th>\n",
       "      <th></th>\n",
       "      <th></th>\n",
       "      <th></th>\n",
       "      <th></th>\n",
       "      <th></th>\n",
       "      <th></th>\n",
       "    </tr>\n",
       "  </thead>\n",
       "  <tbody>\n",
       "    <tr>\n",
       "      <td>2018-03-02 04:00:00</td>\n",
       "      <td>86.333333</td>\n",
       "      <td>6.0</td>\n",
       "      <td>61.178571</td>\n",
       "      <td>69.5</td>\n",
       "      <td>57.846154</td>\n",
       "      <td>58.851852</td>\n",
       "      <td>57.32</td>\n",
       "      <td>64.0</td>\n",
       "      <td>43.0</td>\n",
       "      <td>64.0</td>\n",
       "      <td>20</td>\n",
       "    </tr>\n",
       "    <tr>\n",
       "      <td>2018-03-02 05:00:00</td>\n",
       "      <td>53.000000</td>\n",
       "      <td>12.0</td>\n",
       "      <td>57.464286</td>\n",
       "      <td>42.0</td>\n",
       "      <td>55.884615</td>\n",
       "      <td>56.444444</td>\n",
       "      <td>55.48</td>\n",
       "      <td>20.0</td>\n",
       "      <td>6.0</td>\n",
       "      <td>20.0</td>\n",
       "      <td>11</td>\n",
       "    </tr>\n",
       "    <tr>\n",
       "      <td>2018-03-02 06:00:00</td>\n",
       "      <td>31.666667</td>\n",
       "      <td>15.0</td>\n",
       "      <td>54.821429</td>\n",
       "      <td>15.5</td>\n",
       "      <td>53.769231</td>\n",
       "      <td>54.222222</td>\n",
       "      <td>54.20</td>\n",
       "      <td>11.0</td>\n",
       "      <td>12.0</td>\n",
       "      <td>11.0</td>\n",
       "      <td>11</td>\n",
       "    </tr>\n",
       "    <tr>\n",
       "      <td>2018-03-02 07:00:00</td>\n",
       "      <td>14.000000</td>\n",
       "      <td>34.0</td>\n",
       "      <td>52.678571</td>\n",
       "      <td>11.0</td>\n",
       "      <td>52.538462</td>\n",
       "      <td>52.185185</td>\n",
       "      <td>54.40</td>\n",
       "      <td>11.0</td>\n",
       "      <td>15.0</td>\n",
       "      <td>11.0</td>\n",
       "      <td>7</td>\n",
       "    </tr>\n",
       "    <tr>\n",
       "      <td>2018-03-02 08:00:00</td>\n",
       "      <td>9.666667</td>\n",
       "      <td>69.0</td>\n",
       "      <td>50.571429</td>\n",
       "      <td>9.0</td>\n",
       "      <td>52.576923</td>\n",
       "      <td>50.851852</td>\n",
       "      <td>54.20</td>\n",
       "      <td>7.0</td>\n",
       "      <td>34.0</td>\n",
       "      <td>7.0</td>\n",
       "      <td>46</td>\n",
       "    </tr>\n",
       "    <tr>\n",
       "      <td>...</td>\n",
       "      <td>...</td>\n",
       "      <td>...</td>\n",
       "      <td>...</td>\n",
       "      <td>...</td>\n",
       "      <td>...</td>\n",
       "      <td>...</td>\n",
       "      <td>...</td>\n",
       "      <td>...</td>\n",
       "      <td>...</td>\n",
       "      <td>...</td>\n",
       "      <td>...</td>\n",
       "    </tr>\n",
       "    <tr>\n",
       "      <td>2018-08-31 19:00:00</td>\n",
       "      <td>207.000000</td>\n",
       "      <td>142.0</td>\n",
       "      <td>174.500000</td>\n",
       "      <td>212.0</td>\n",
       "      <td>172.153846</td>\n",
       "      <td>175.185185</td>\n",
       "      <td>165.36</td>\n",
       "      <td>207.0</td>\n",
       "      <td>72.0</td>\n",
       "      <td>207.0</td>\n",
       "      <td>136</td>\n",
       "    </tr>\n",
       "    <tr>\n",
       "      <td>2018-08-31 20:00:00</td>\n",
       "      <td>186.666667</td>\n",
       "      <td>198.0</td>\n",
       "      <td>173.785714</td>\n",
       "      <td>171.5</td>\n",
       "      <td>164.230769</td>\n",
       "      <td>170.814815</td>\n",
       "      <td>163.72</td>\n",
       "      <td>136.0</td>\n",
       "      <td>142.0</td>\n",
       "      <td>136.0</td>\n",
       "      <td>154</td>\n",
       "    </tr>\n",
       "    <tr>\n",
       "      <td>2018-08-31 21:00:00</td>\n",
       "      <td>165.666667</td>\n",
       "      <td>158.0</td>\n",
       "      <td>170.214286</td>\n",
       "      <td>145.0</td>\n",
       "      <td>163.346154</td>\n",
       "      <td>163.851852</td>\n",
       "      <td>167.00</td>\n",
       "      <td>154.0</td>\n",
       "      <td>198.0</td>\n",
       "      <td>154.0</td>\n",
       "      <td>159</td>\n",
       "    </tr>\n",
       "    <tr>\n",
       "      <td>2018-08-31 22:00:00</td>\n",
       "      <td>149.666667</td>\n",
       "      <td>246.0</td>\n",
       "      <td>163.678571</td>\n",
       "      <td>156.5</td>\n",
       "      <td>166.692308</td>\n",
       "      <td>163.185185</td>\n",
       "      <td>167.68</td>\n",
       "      <td>159.0</td>\n",
       "      <td>158.0</td>\n",
       "      <td>159.0</td>\n",
       "      <td>223</td>\n",
       "    </tr>\n",
       "    <tr>\n",
       "      <td>2018-08-31 23:00:00</td>\n",
       "      <td>178.666667</td>\n",
       "      <td>276.0</td>\n",
       "      <td>165.321429</td>\n",
       "      <td>191.0</td>\n",
       "      <td>169.807692</td>\n",
       "      <td>168.777778</td>\n",
       "      <td>168.68</td>\n",
       "      <td>223.0</td>\n",
       "      <td>246.0</td>\n",
       "      <td>223.0</td>\n",
       "      <td>205</td>\n",
       "    </tr>\n",
       "  </tbody>\n",
       "</table>\n",
       "<p>4388 rows × 11 columns</p>\n",
       "</div>"
      ],
      "text/plain": [
       "                      rolling_3  lag_23  rolling_28  rolling_2  rolling_26  \\\n",
       "datetime                                                                     \n",
       "2018-03-02 04:00:00   86.333333     6.0   61.178571       69.5   57.846154   \n",
       "2018-03-02 05:00:00   53.000000    12.0   57.464286       42.0   55.884615   \n",
       "2018-03-02 06:00:00   31.666667    15.0   54.821429       15.5   53.769231   \n",
       "2018-03-02 07:00:00   14.000000    34.0   52.678571       11.0   52.538462   \n",
       "2018-03-02 08:00:00    9.666667    69.0   50.571429        9.0   52.576923   \n",
       "...                         ...     ...         ...        ...         ...   \n",
       "2018-08-31 19:00:00  207.000000   142.0  174.500000      212.0  172.153846   \n",
       "2018-08-31 20:00:00  186.666667   198.0  173.785714      171.5  164.230769   \n",
       "2018-08-31 21:00:00  165.666667   158.0  170.214286      145.0  163.346154   \n",
       "2018-08-31 22:00:00  149.666667   246.0  163.678571      156.5  166.692308   \n",
       "2018-08-31 23:00:00  178.666667   276.0  165.321429      191.0  169.807692   \n",
       "\n",
       "                     rolling_27  rolling_25  lag_1  lag_24  rolling_1  \\\n",
       "datetime                                                                \n",
       "2018-03-02 04:00:00   58.851852       57.32   64.0    43.0       64.0   \n",
       "2018-03-02 05:00:00   56.444444       55.48   20.0     6.0       20.0   \n",
       "2018-03-02 06:00:00   54.222222       54.20   11.0    12.0       11.0   \n",
       "2018-03-02 07:00:00   52.185185       54.40   11.0    15.0       11.0   \n",
       "2018-03-02 08:00:00   50.851852       54.20    7.0    34.0        7.0   \n",
       "...                         ...         ...    ...     ...        ...   \n",
       "2018-08-31 19:00:00  175.185185      165.36  207.0    72.0      207.0   \n",
       "2018-08-31 20:00:00  170.814815      163.72  136.0   142.0      136.0   \n",
       "2018-08-31 21:00:00  163.851852      167.00  154.0   198.0      154.0   \n",
       "2018-08-31 22:00:00  163.185185      167.68  159.0   158.0      159.0   \n",
       "2018-08-31 23:00:00  168.777778      168.68  223.0   246.0      223.0   \n",
       "\n",
       "                     num_orders  \n",
       "datetime                         \n",
       "2018-03-02 04:00:00          20  \n",
       "2018-03-02 05:00:00          11  \n",
       "2018-03-02 06:00:00          11  \n",
       "2018-03-02 07:00:00           7  \n",
       "2018-03-02 08:00:00          46  \n",
       "...                         ...  \n",
       "2018-08-31 19:00:00         136  \n",
       "2018-08-31 20:00:00         154  \n",
       "2018-08-31 21:00:00         159  \n",
       "2018-08-31 22:00:00         223  \n",
       "2018-08-31 23:00:00         205  \n",
       "\n",
       "[4388 rows x 11 columns]"
      ]
     },
     "execution_count": 167,
     "metadata": {},
     "output_type": "execute_result"
    }
   ],
   "source": [
    "df_new = df_temp.iloc[:, ind]\n",
    "df_new = df_new.dropna()\n",
    "df_new"
   ]
  },
  {
   "cell_type": "code",
   "execution_count": 168,
   "metadata": {},
   "outputs": [],
   "source": [
    "train, temp = train_test_split(df_new, shuffle = False, test_size = 0.2)\n",
    "valid, test = train_test_split(temp, shuffle = False, test_size = 0.5)\n",
    "\n",
    "features_train = train.drop(['num_orders'], axis = 1)\n",
    "target_train = train['num_orders']\n",
    "\n",
    "features_valid = valid.drop(['num_orders'], axis = 1)\n",
    "target_valid = valid['num_orders']"
   ]
  },
  {
   "cell_type": "markdown",
   "metadata": {},
   "source": [
    "Рассмотрим гиперпараметры разных моделей"
   ]
  },
  {
   "cell_type": "code",
   "execution_count": 169,
   "metadata": {},
   "outputs": [
    {
     "name": "stdout",
     "output_type": "stream",
     "text": [
      "DecisionTreeRegressor\n",
      "Best RMSE: 37.90151859433523\n",
      "Best depth: 7\n"
     ]
    }
   ],
   "source": [
    "# дерево решений\n",
    "best_result = 100\n",
    "for depth in range(1, 11):\n",
    "    model = DecisionTreeRegressor(max_depth = depth, random_state = 12345)\n",
    "    model.fit(features_train, target_train)\n",
    "    predicted = model.predict(features_valid)\n",
    "    result = mean_squared_error(predicted, target_valid) ** 0.5\n",
    "    if result < best_result:\n",
    "        best_depth = depth\n",
    "        best_result = result\n",
    "        \n",
    "print('DecisionTreeRegressor')\n",
    "print('Best RMSE:', best_result)\n",
    "print('Best depth:', best_depth)"
   ]
  },
  {
   "cell_type": "code",
   "execution_count": 170,
   "metadata": {},
   "outputs": [
    {
     "name": "stdout",
     "output_type": "stream",
     "text": [
      "RandomForestRegressor\n",
      "Best RMSE: 36.839602563647524\n",
      "Best depth: 17\n",
      "Best est: 95\n"
     ]
    }
   ],
   "source": [
    "# случайный лес\n",
    "best_result = 100\n",
    "for est in range(10, 100, 5):\n",
    "    for depth in range(1, 20):\n",
    "        model = RandomForestRegressor(random_state = 12345, n_estimators = est, max_depth = depth)\n",
    "        model.fit(features_train, target_train)\n",
    "        predicted = model.predict(features_valid)\n",
    "        result = mean_squared_error(predicted, target_valid) ** 0.5\n",
    "        if result < best_result:\n",
    "            best_result = result\n",
    "            best_est = est\n",
    "            best_depth = depth\n",
    "\n",
    "print('RandomForestRegressor')\n",
    "print('Best RMSE:', best_result)\n",
    "print('Best depth:', best_depth)\n",
    "print('Best est:', best_est)"
   ]
  },
  {
   "cell_type": "markdown",
   "metadata": {},
   "source": [
    "### Вывод"
   ]
  },
  {
   "cell_type": "markdown",
   "metadata": {},
   "source": [
    "В результате исследования были получены следующие результаты:\n",
    "\n",
    "- DecisionTreeRegressor:\n",
    "    - Best RMSE: 37.90151859433523\n",
    "    - Best depth: 7\n",
    "    \n",
    "- RandomForestRegressor:\n",
    "    - Best RMSE: 36.839602563647524\n",
    "    - Best depth: 17\n",
    "    - Best est: 95\n",
    "    \n",
    "По полученым резульатам можно сделать вывод, что обе модели показывают достаточно хорошее качество предстаканий, но лучшей показала себя RandomForestRegressor"
   ]
  },
  {
   "cell_type": "markdown",
   "metadata": {},
   "source": [
    "## Тестирование"
   ]
  },
  {
   "cell_type": "markdown",
   "metadata": {},
   "source": [
    "Проанализируем модели с лучшими гоперпараметрами на тестовой выборке"
   ]
  },
  {
   "cell_type": "code",
   "execution_count": 174,
   "metadata": {},
   "outputs": [],
   "source": [
    "train, test = train_test_split(df_new, shuffle = False, test_size = 0.1)\n",
    "\n",
    "features_train = train.drop(['num_orders'], axis = 1)\n",
    "target_train = train['num_orders']\n",
    "\n",
    "features_test = test.drop(['num_orders'], axis = 1)\n",
    "target_test = test['num_orders']"
   ]
  },
  {
   "cell_type": "code",
   "execution_count": 175,
   "metadata": {},
   "outputs": [
    {
     "name": "stdout",
     "output_type": "stream",
     "text": [
      "DecisionTreeRegressor\n",
      "RMSE: 60.258863510218426\n"
     ]
    }
   ],
   "source": [
    "# дерево решений\n",
    "model = DecisionTreeRegressor(max_depth = 7, random_state = 12345)\n",
    "model.fit(features_train, target_train)\n",
    "predicted = model.predict(features_test)\n",
    "result = mean_squared_error(predicted, target_test) ** 0.5\n",
    "\n",
    "print('DecisionTreeRegressor')\n",
    "print('RMSE:', result)"
   ]
  },
  {
   "cell_type": "code",
   "execution_count": 177,
   "metadata": {},
   "outputs": [
    {
     "name": "stdout",
     "output_type": "stream",
     "text": [
      "RandomForestRegressor\n",
      "RMSE: 47.55874465981923\n"
     ]
    }
   ],
   "source": [
    "# случайный лес\n",
    "model = RandomForestRegressor(random_state = 12345, n_estimators = 95, max_depth = 17)\n",
    "model.fit(features_train, target_train)\n",
    "predicted = model.predict(features_test)\n",
    "result = mean_squared_error(predicted, target_test) ** 0.5\n",
    "\n",
    "print('RandomForestRegressor')\n",
    "print('RMSE:', result)"
   ]
  },
  {
   "cell_type": "markdown",
   "metadata": {},
   "source": [
    "### Вывод"
   ]
  },
  {
   "cell_type": "markdown",
   "metadata": {},
   "source": [
    "Были проанализированны модели с лучшими гиперпараметрами на тестовой выборке, были получины следующие результаты:\n",
    "\n",
    "- DecisionTreeRegressor:\n",
    "    - RMSE: 60.258863510218426\n",
    "    \n",
    "- RandomForestRegressor:\n",
    "    - RMSE: 47.55874465981923\n",
    "    \n",
    "Как и ожидалось, модель RandomForestRegressor показала лучшие рещультаты из рассмотренных моделей на найденных гиперпараметрах, порог в RMSE = 48 был пройден"
   ]
  },
  {
   "cell_type": "markdown",
   "metadata": {},
   "source": [
    "## Вывод"
   ]
  },
  {
   "cell_type": "markdown",
   "metadata": {},
   "source": [
    "Цель проекта:  привлекать больше водителей в период пиковой нагрузки.\n",
    "Задача: спрогнозировать количество заказов такси на следующий час, построить модель для такого предсказания.\n",
    "\n",
    "Работа над проектом была выполненна в несколько этапов:\n",
    "\n",
    "**1 Подготовка**\n",
    "\n",
    "Данные были импортированны методом read_csv() с параметрами index_col = [0], parse_dates = [0] в датафрейм df, по результатам работы методом info() и describe() можно сделать следующие выводы:\n",
    "\n",
    "- одинаковое колличество строк свидетельствует об отсутствии дубликатов и пропусков\n",
    "- предположение выше подтверждает результат работы метода describe()\n",
    "- извлечем дополнительные признаки из столбца datetime и запишем их в новые столбцы\n",
    "- ресемплируем данные по одному часу с помощью метода resample()\n",
    "\n",
    "Таким образом можно заключить, что данные адекватны и не требуют подготовки к дальнейшему анализу\n",
    "\n",
    "**2 Анализ**\n",
    "\n",
    "Данные были проанализорованны следующим образом:\n",
    "\n",
    "- была произведена проверка столбца datetime на соответствие хронологическому порядку; в результате проверки была выявленна хронология\n",
    "- был выведен график тренда, найденного с помощью метода seasonal_decompose(), по которому можно заключить, что колличество заказов такси уверенно увеличивается\n",
    "\n",
    "**3 Обучение**\n",
    "\n",
    "В результате исследования были получены следующие результаты:\n",
    "\n",
    "- DecisionTreeRegressor:\n",
    "    - Best RMSE: 37.90151859433523\n",
    "    - Best depth: 7\n",
    "    \n",
    "- RandomForestRegressor:\n",
    "    - Best RMSE: 36.839602563647524\n",
    "    - Best depth: 17\n",
    "    - Best est: 95\n",
    "    \n",
    "По полученым резульатам можно сделать вывод, что обе модели показывают достаточно хорошее качество предстаканий, но лучшей показала себя RandomForestRegressor\n",
    "\n",
    "**4 Тестирование**\n",
    "\n",
    "Были проанализированны модели с лучшими гиперпараметрами на тестовой выборке, были получины следующие результаты:\n",
    "\n",
    "- DecisionTreeRegressor:\n",
    "    - RMSE: 60.258863510218426\n",
    "    \n",
    "- RandomForestRegressor:\n",
    "    - RMSE: 47.55874465981923\n",
    "    \n",
    "Как и ожидалось, модель RandomForestRegressor показала лучшие рещультаты из рассмотренных моделей на найденных гиперпараметрах, порог в RMSE = 48 был пройден\n",
    "\n",
    "Можно заключить, что наиболее подходящей является модель RandomForestRegressor.\n",
    "\n",
    "Таким образом задача проекта была выполненна, а цель достигнута."
   ]
  }
 ],
 "metadata": {
  "ExecuteTimeLog": [
   {
    "duration": 713,
    "start_time": "2021-07-21T13:57:30.184Z"
   },
   {
    "duration": 61,
    "start_time": "2021-07-21T13:57:50.561Z"
   },
   {
    "duration": 18,
    "start_time": "2021-07-21T13:58:55.017Z"
   },
   {
    "duration": 17,
    "start_time": "2021-07-21T13:59:35.999Z"
   },
   {
    "duration": 85,
    "start_time": "2021-07-21T13:59:56.924Z"
   },
   {
    "duration": 54,
    "start_time": "2021-07-21T14:01:31.630Z"
   },
   {
    "duration": 7,
    "start_time": "2021-07-21T14:01:37.693Z"
   },
   {
    "duration": 17,
    "start_time": "2021-07-21T14:01:46.543Z"
   },
   {
    "duration": 5,
    "start_time": "2021-07-21T14:01:56.611Z"
   },
   {
    "duration": 4,
    "start_time": "2021-07-21T14:02:52.252Z"
   },
   {
    "duration": 567,
    "start_time": "2021-07-21T14:04:44.979Z"
   },
   {
    "duration": 478,
    "start_time": "2021-07-21T14:06:04.668Z"
   },
   {
    "duration": 257,
    "start_time": "2021-07-21T14:08:25.091Z"
   },
   {
    "duration": 317,
    "start_time": "2021-07-21T14:08:30.691Z"
   },
   {
    "duration": 262,
    "start_time": "2021-07-21T14:08:35.153Z"
   },
   {
    "duration": 350,
    "start_time": "2021-07-21T14:08:38.468Z"
   },
   {
    "duration": 3,
    "start_time": "2021-07-21T14:08:46.246Z"
   },
   {
    "duration": 56,
    "start_time": "2021-07-21T14:08:47.318Z"
   },
   {
    "duration": 16,
    "start_time": "2021-07-21T14:08:49.472Z"
   },
   {
    "duration": 5,
    "start_time": "2021-07-21T14:08:50.877Z"
   },
   {
    "duration": 441,
    "start_time": "2021-07-21T14:08:52.066Z"
   },
   {
    "duration": 3,
    "start_time": "2021-07-21T14:11:05.599Z"
   },
   {
    "duration": 53,
    "start_time": "2021-07-21T14:11:06.555Z"
   },
   {
    "duration": 17,
    "start_time": "2021-07-21T14:11:07.877Z"
   },
   {
    "duration": 5,
    "start_time": "2021-07-21T14:11:09.190Z"
   },
   {
    "duration": 433,
    "start_time": "2021-07-21T14:11:09.759Z"
   },
   {
    "duration": 351,
    "start_time": "2021-07-21T14:11:59.752Z"
   },
   {
    "duration": 504,
    "start_time": "2021-07-21T14:12:19.647Z"
   },
   {
    "duration": 439,
    "start_time": "2021-07-21T14:12:23.884Z"
   },
   {
    "duration": 459,
    "start_time": "2021-07-21T14:12:34.198Z"
   },
   {
    "duration": 4,
    "start_time": "2021-07-21T14:12:47.147Z"
   },
   {
    "duration": 53,
    "start_time": "2021-07-21T14:12:48.309Z"
   },
   {
    "duration": 17,
    "start_time": "2021-07-21T14:12:49.461Z"
   },
   {
    "duration": 5,
    "start_time": "2021-07-21T14:12:50.524Z"
   },
   {
    "duration": 432,
    "start_time": "2021-07-21T14:12:50.966Z"
   },
   {
    "duration": 478,
    "start_time": "2021-07-21T14:12:52.298Z"
   },
   {
    "duration": 512,
    "start_time": "2021-07-21T14:13:10.129Z"
   },
   {
    "duration": 81,
    "start_time": "2021-07-21T14:14:30.081Z"
   },
   {
    "duration": 18,
    "start_time": "2021-07-21T14:18:54.582Z"
   },
   {
    "duration": 6,
    "start_time": "2021-07-21T14:22:35.955Z"
   },
   {
    "duration": 8269,
    "start_time": "2021-07-21T14:22:56.373Z"
   },
   {
    "duration": 5,
    "start_time": "2021-07-21T14:23:27.062Z"
   },
   {
    "duration": 28,
    "start_time": "2021-07-21T14:23:27.722Z"
   },
   {
    "duration": 25,
    "start_time": "2021-07-21T14:24:08.907Z"
   },
   {
    "duration": 4,
    "start_time": "2021-07-21T14:25:34.379Z"
   },
   {
    "duration": 817,
    "start_time": "2021-07-21T14:25:36.776Z"
   },
   {
    "duration": 410,
    "start_time": "2021-07-21T14:26:02.351Z"
   },
   {
    "duration": 502,
    "start_time": "2021-07-21T14:26:18.954Z"
   },
   {
    "duration": 395,
    "start_time": "2021-07-21T14:30:43.981Z"
   },
   {
    "duration": 79,
    "start_time": "2021-07-21T14:34:31.373Z"
   },
   {
    "duration": 998,
    "start_time": "2021-07-21T14:35:05.174Z"
   },
   {
    "duration": 9,
    "start_time": "2021-07-21T14:35:15.371Z"
   },
   {
    "duration": 8,
    "start_time": "2021-07-21T14:36:32.153Z"
   },
   {
    "duration": 244,
    "start_time": "2021-07-21T14:45:16.802Z"
   },
   {
    "duration": 39,
    "start_time": "2021-07-21T14:45:23.218Z"
   },
   {
    "duration": 322,
    "start_time": "2021-07-21T14:45:51.663Z"
   },
   {
    "duration": 5,
    "start_time": "2021-07-21T14:46:42.333Z"
   },
   {
    "duration": 126,
    "start_time": "2021-07-21T14:46:45.813Z"
   },
   {
    "duration": 250,
    "start_time": "2021-07-21T14:49:36.673Z"
   },
   {
    "duration": 14,
    "start_time": "2021-07-21T14:49:51.498Z"
   },
   {
    "duration": 8,
    "start_time": "2021-07-21T14:49:57.157Z"
   },
   {
    "duration": 130,
    "start_time": "2021-07-21T14:50:00.622Z"
   },
   {
    "duration": 220894,
    "start_time": "2021-07-21T14:50:04.378Z"
   },
   {
    "duration": 81,
    "start_time": "2021-07-21T14:57:24.516Z"
   },
   {
    "duration": 17329,
    "start_time": "2021-07-21T14:59:45.311Z"
   },
   {
    "duration": 237845,
    "start_time": "2021-07-21T15:00:10.423Z"
   },
   {
    "duration": 218878,
    "start_time": "2021-07-21T15:04:39.781Z"
   },
   {
    "duration": 14,
    "start_time": "2021-07-21T15:08:18.662Z"
   },
   {
    "duration": 1886,
    "start_time": "2021-07-21T15:08:50.609Z"
   },
   {
    "duration": 1867,
    "start_time": "2021-07-21T15:09:22.954Z"
   },
   {
    "duration": 3,
    "start_time": "2021-07-21T15:14:22.270Z"
   },
   {
    "duration": 1353,
    "start_time": "2021-07-21T15:21:33.880Z"
   },
   {
    "duration": 62,
    "start_time": "2021-07-21T15:21:35.236Z"
   },
   {
    "duration": 17,
    "start_time": "2021-07-21T15:21:35.301Z"
   },
   {
    "duration": 6,
    "start_time": "2021-07-21T15:21:35.320Z"
   },
   {
    "duration": 46,
    "start_time": "2021-07-21T15:21:35.356Z"
   },
   {
    "duration": 453,
    "start_time": "2021-07-21T15:21:35.405Z"
   },
   {
    "duration": 5,
    "start_time": "2021-07-21T15:21:35.862Z"
   },
   {
    "duration": 422,
    "start_time": "2021-07-21T15:21:35.872Z"
   },
   {
    "duration": 11,
    "start_time": "2021-07-21T15:21:36.297Z"
   },
   {
    "duration": 9,
    "start_time": "2021-07-21T15:21:36.311Z"
   },
   {
    "duration": 162,
    "start_time": "2021-07-21T15:21:36.323Z"
   },
   {
    "duration": 66,
    "start_time": "2021-07-21T15:21:36.423Z"
   },
   {
    "duration": 58,
    "start_time": "2021-07-21T15:21:36.433Z"
   },
   {
    "duration": 58,
    "start_time": "2021-07-21T15:21:36.435Z"
   },
   {
    "duration": 1385,
    "start_time": "2021-07-21T15:22:17.171Z"
   },
   {
    "duration": 60,
    "start_time": "2021-07-21T15:22:18.559Z"
   },
   {
    "duration": 17,
    "start_time": "2021-07-21T15:22:18.621Z"
   },
   {
    "duration": 18,
    "start_time": "2021-07-21T15:22:18.640Z"
   },
   {
    "duration": 48,
    "start_time": "2021-07-21T15:22:18.660Z"
   },
   {
    "duration": 438,
    "start_time": "2021-07-21T15:22:18.710Z"
   },
   {
    "duration": 6,
    "start_time": "2021-07-21T15:22:19.155Z"
   },
   {
    "duration": 427,
    "start_time": "2021-07-21T15:22:19.165Z"
   },
   {
    "duration": 9,
    "start_time": "2021-07-21T15:22:19.595Z"
   },
   {
    "duration": 12,
    "start_time": "2021-07-21T15:22:19.606Z"
   },
   {
    "duration": 149,
    "start_time": "2021-07-21T15:22:19.621Z"
   },
   {
    "duration": 205759,
    "start_time": "2021-07-21T15:22:19.773Z"
   },
   {
    "duration": 39,
    "start_time": "2021-07-21T15:25:45.534Z"
   },
   {
    "duration": 1572,
    "start_time": "2021-07-21T15:25:45.575Z"
   },
   {
    "duration": 1057,
    "start_time": "2021-07-22T10:55:41.582Z"
   },
   {
    "duration": 41,
    "start_time": "2021-07-22T10:55:42.641Z"
   },
   {
    "duration": 8,
    "start_time": "2021-07-22T10:55:51.198Z"
   },
   {
    "duration": 5,
    "start_time": "2021-07-22T10:55:56.614Z"
   },
   {
    "duration": 5,
    "start_time": "2021-07-22T10:56:00.566Z"
   },
   {
    "duration": 8,
    "start_time": "2021-07-22T10:56:05.240Z"
   },
   {
    "duration": 7,
    "start_time": "2021-07-22T10:56:09.281Z"
   },
   {
    "duration": 11,
    "start_time": "2021-07-22T10:56:43.029Z"
   },
   {
    "duration": 4,
    "start_time": "2021-07-22T10:56:43.461Z"
   },
   {
    "duration": 29,
    "start_time": "2021-07-22T10:56:43.661Z"
   },
   {
    "duration": 233,
    "start_time": "2021-07-22T10:56:44.030Z"
   },
   {
    "duration": 4,
    "start_time": "2021-07-22T10:56:44.925Z"
   },
   {
    "duration": 217,
    "start_time": "2021-07-22T10:56:45.341Z"
   },
   {
    "duration": 6,
    "start_time": "2021-07-22T10:56:46.309Z"
   },
   {
    "duration": 4,
    "start_time": "2021-07-22T10:56:46.690Z"
   },
   {
    "duration": 84,
    "start_time": "2021-07-22T10:56:47.097Z"
   },
   {
    "duration": 145552,
    "start_time": "2021-07-22T10:56:47.305Z"
   },
   {
    "duration": 33,
    "start_time": "2021-07-22T10:59:12.859Z"
   },
   {
    "duration": 1633,
    "start_time": "2021-07-22T10:59:12.894Z"
   },
   {
    "duration": 13,
    "start_time": "2021-07-22T11:05:40.310Z"
   },
   {
    "duration": 1532,
    "start_time": "2021-07-22T16:16:52.089Z"
   },
   {
    "duration": 64,
    "start_time": "2021-07-22T16:16:55.402Z"
   },
   {
    "duration": 19,
    "start_time": "2021-07-22T16:17:02.481Z"
   },
   {
    "duration": 536,
    "start_time": "2021-07-22T16:17:06.621Z"
   },
   {
    "duration": 5,
    "start_time": "2021-07-22T16:17:10.577Z"
   },
   {
    "duration": 33,
    "start_time": "2021-07-22T16:17:12.425Z"
   },
   {
    "duration": 5,
    "start_time": "2021-07-22T16:35:16.776Z"
   },
   {
    "duration": 73,
    "start_time": "2021-07-22T16:35:18.893Z"
   },
   {
    "duration": 17,
    "start_time": "2021-07-22T16:35:20.843Z"
   },
   {
    "duration": 459,
    "start_time": "2021-07-22T16:35:23.071Z"
   },
   {
    "duration": 6,
    "start_time": "2021-07-22T16:35:25.608Z"
   },
   {
    "duration": 33,
    "start_time": "2021-07-22T16:35:28.600Z"
   },
   {
    "duration": 24,
    "start_time": "2021-07-22T16:35:30.842Z"
   },
   {
    "duration": 5,
    "start_time": "2021-07-22T16:35:39.212Z"
   },
   {
    "duration": 409,
    "start_time": "2021-07-22T16:35:40.877Z"
   },
   {
    "duration": 8,
    "start_time": "2021-07-22T16:35:48.722Z"
   },
   {
    "duration": 7,
    "start_time": "2021-07-22T16:35:50.429Z"
   },
   {
    "duration": 133,
    "start_time": "2021-07-22T16:35:52.511Z"
   },
   {
    "duration": 247325,
    "start_time": "2021-07-22T16:35:56.653Z"
   },
   {
    "duration": 30,
    "start_time": "2021-07-22T16:40:48.496Z"
   },
   {
    "duration": 1972,
    "start_time": "2021-07-22T16:40:52.115Z"
   },
   {
    "duration": 17,
    "start_time": "2021-07-22T17:03:56.938Z"
   },
   {
    "duration": 5,
    "start_time": "2021-07-22T17:04:02.751Z"
   },
   {
    "duration": 60,
    "start_time": "2021-07-22T17:04:05.048Z"
   },
   {
    "duration": 17,
    "start_time": "2021-07-22T17:04:07.556Z"
   },
   {
    "duration": 422,
    "start_time": "2021-07-22T17:04:12.709Z"
   },
   {
    "duration": 10,
    "start_time": "2021-07-22T17:04:15.746Z"
   },
   {
    "duration": 4,
    "start_time": "2021-07-22T17:07:39.229Z"
   },
   {
    "duration": 24,
    "start_time": "2021-07-22T17:07:40.048Z"
   },
   {
    "duration": 14,
    "start_time": "2021-07-22T17:07:50.416Z"
   },
   {
    "duration": 4,
    "start_time": "2021-07-22T17:07:51.865Z"
   },
   {
    "duration": 19,
    "start_time": "2021-07-22T17:07:53.579Z"
   },
   {
    "duration": 5,
    "start_time": "2021-07-22T17:20:07.334Z"
   },
   {
    "duration": 467,
    "start_time": "2021-07-22T17:22:54.049Z"
   },
   {
    "duration": 12727,
    "start_time": "2021-07-22T17:23:28.700Z"
   },
   {
    "duration": 429,
    "start_time": "2021-07-22T17:27:44.955Z"
   },
   {
    "duration": 469,
    "start_time": "2021-07-22T17:28:57.879Z"
   },
   {
    "duration": 5,
    "start_time": "2021-07-22T17:29:13.221Z"
   },
   {
    "duration": 319,
    "start_time": "2021-07-22T17:29:15.133Z"
   },
   {
    "duration": 6,
    "start_time": "2021-07-22T17:31:10.475Z"
   },
   {
    "duration": 322,
    "start_time": "2021-07-22T17:31:12.411Z"
   },
   {
    "duration": 333,
    "start_time": "2021-07-22T17:31:33.477Z"
   },
   {
    "duration": 343,
    "start_time": "2021-07-22T17:34:44.687Z"
   },
   {
    "duration": 392,
    "start_time": "2021-07-22T17:36:03.015Z"
   },
   {
    "duration": 330,
    "start_time": "2021-07-22T17:36:39.582Z"
   },
   {
    "duration": 330,
    "start_time": "2021-07-22T17:37:42.831Z"
   },
   {
    "duration": 309,
    "start_time": "2021-07-22T17:38:01.162Z"
   },
   {
    "duration": 346,
    "start_time": "2021-07-22T17:38:28.027Z"
   },
   {
    "duration": 716,
    "start_time": "2021-07-22T17:38:41.338Z"
   },
   {
    "duration": 5,
    "start_time": "2021-07-22T17:38:50.195Z"
   },
   {
    "duration": 54,
    "start_time": "2021-07-22T17:38:52.524Z"
   },
   {
    "duration": 23,
    "start_time": "2021-07-22T17:38:55.018Z"
   },
   {
    "duration": 423,
    "start_time": "2021-07-22T17:38:58.964Z"
   },
   {
    "duration": 5,
    "start_time": "2021-07-22T17:39:01.598Z"
   },
   {
    "duration": 19,
    "start_time": "2021-07-22T17:39:03.766Z"
   },
   {
    "duration": 16393,
    "start_time": "2021-07-22T17:39:12.974Z"
   },
   {
    "duration": 5,
    "start_time": "2021-07-22T17:40:49.138Z"
   },
   {
    "duration": 56,
    "start_time": "2021-07-22T17:40:50.856Z"
   },
   {
    "duration": 17,
    "start_time": "2021-07-22T17:40:52.472Z"
   },
   {
    "duration": 412,
    "start_time": "2021-07-22T17:40:54.051Z"
   },
   {
    "duration": 4,
    "start_time": "2021-07-22T17:40:56.456Z"
   },
   {
    "duration": 18,
    "start_time": "2021-07-22T17:40:58.224Z"
   },
   {
    "duration": 12532,
    "start_time": "2021-07-22T17:41:04.253Z"
   },
   {
    "duration": 495,
    "start_time": "2021-07-22T17:41:57.506Z"
   },
   {
    "duration": 6,
    "start_time": "2021-07-22T17:43:18.313Z"
   },
   {
    "duration": 57,
    "start_time": "2021-07-22T17:43:19.967Z"
   },
   {
    "duration": 17,
    "start_time": "2021-07-22T17:43:21.904Z"
   },
   {
    "duration": 412,
    "start_time": "2021-07-22T17:43:23.506Z"
   },
   {
    "duration": 5,
    "start_time": "2021-07-22T17:43:25.504Z"
   },
   {
    "duration": 20,
    "start_time": "2021-07-22T17:43:27.449Z"
   },
   {
    "duration": 13692,
    "start_time": "2021-07-22T17:43:32.507Z"
   },
   {
    "duration": 5,
    "start_time": "2021-07-22T17:46:12.042Z"
   },
   {
    "duration": 57,
    "start_time": "2021-07-22T17:46:13.909Z"
   },
   {
    "duration": 17,
    "start_time": "2021-07-22T17:46:15.622Z"
   },
   {
    "duration": 508,
    "start_time": "2021-07-22T17:46:17.517Z"
   },
   {
    "duration": 4,
    "start_time": "2021-07-22T17:46:19.832Z"
   },
   {
    "duration": 18,
    "start_time": "2021-07-22T17:46:21.145Z"
   },
   {
    "duration": 13483,
    "start_time": "2021-07-22T17:46:45.779Z"
   },
   {
    "duration": 417,
    "start_time": "2021-07-22T17:50:54.691Z"
   },
   {
    "duration": 5,
    "start_time": "2021-07-22T17:51:09.702Z"
   },
   {
    "duration": 58,
    "start_time": "2021-07-22T17:51:11.512Z"
   },
   {
    "duration": 18,
    "start_time": "2021-07-22T17:51:13.335Z"
   },
   {
    "duration": 524,
    "start_time": "2021-07-22T17:51:14.934Z"
   },
   {
    "duration": 5,
    "start_time": "2021-07-22T17:51:17.425Z"
   },
   {
    "duration": 19,
    "start_time": "2021-07-22T17:51:19.347Z"
   },
   {
    "duration": 13845,
    "start_time": "2021-07-22T17:51:25.291Z"
   },
   {
    "duration": 5,
    "start_time": "2021-07-22T18:10:45.664Z"
   },
   {
    "duration": 58,
    "start_time": "2021-07-22T18:10:47.168Z"
   },
   {
    "duration": 18,
    "start_time": "2021-07-22T18:10:48.985Z"
   },
   {
    "duration": 506,
    "start_time": "2021-07-22T18:10:50.593Z"
   },
   {
    "duration": 5,
    "start_time": "2021-07-22T18:10:52.541Z"
   },
   {
    "duration": 18,
    "start_time": "2021-07-22T18:10:54.497Z"
   },
   {
    "duration": 311,
    "start_time": "2021-07-22T18:11:03.622Z"
   },
   {
    "duration": 22050,
    "start_time": "2021-07-22T18:11:18.852Z"
   },
   {
    "duration": 174299,
    "start_time": "2021-07-22T18:15:17.181Z"
   },
   {
    "duration": 169079,
    "start_time": "2021-07-22T18:18:42.011Z"
   },
   {
    "duration": 165477,
    "start_time": "2021-07-22T18:26:16.108Z"
   },
   {
    "duration": 168327,
    "start_time": "2021-07-22T18:45:59.749Z"
   },
   {
    "duration": 15363,
    "start_time": "2021-07-22T18:49:15.231Z"
   },
   {
    "duration": 30959,
    "start_time": "2021-07-22T18:49:36.145Z"
   },
   {
    "duration": 169641,
    "start_time": "2021-07-22T18:51:01.256Z"
   },
   {
    "duration": 30140,
    "start_time": "2021-07-22T18:53:58.335Z"
   },
   {
    "duration": 121,
    "start_time": "2021-07-22T19:02:59.395Z"
   },
   {
    "duration": 584,
    "start_time": "2021-07-22T19:04:01.277Z"
   },
   {
    "duration": 466,
    "start_time": "2021-07-22T19:53:35.167Z"
   },
   {
    "duration": 435,
    "start_time": "2021-07-22T19:53:45.793Z"
   },
   {
    "duration": 429,
    "start_time": "2021-07-22T19:54:05.399Z"
   },
   {
    "duration": 558,
    "start_time": "2021-07-22T19:57:08.460Z"
   },
   {
    "duration": 539,
    "start_time": "2021-07-22T19:58:11.747Z"
   },
   {
    "duration": 525,
    "start_time": "2021-07-22T19:58:19.588Z"
   },
   {
    "duration": 638,
    "start_time": "2021-07-22T19:58:28.884Z"
   },
   {
    "duration": 724,
    "start_time": "2021-07-22T19:58:46.236Z"
   },
   {
    "duration": 673,
    "start_time": "2021-07-22T19:58:51.837Z"
   },
   {
    "duration": 682,
    "start_time": "2021-07-22T19:58:57.480Z"
   },
   {
    "duration": 315,
    "start_time": "2021-07-22T20:00:43.881Z"
   },
   {
    "duration": 780,
    "start_time": "2021-07-22T20:00:58.405Z"
   },
   {
    "duration": 116,
    "start_time": "2021-07-22T20:02:19.138Z"
   },
   {
    "duration": 2042,
    "start_time": "2021-07-23T10:37:52.766Z"
   },
   {
    "duration": 95,
    "start_time": "2021-07-23T10:37:54.812Z"
   },
   {
    "duration": 45,
    "start_time": "2021-07-23T10:37:54.911Z"
   },
   {
    "duration": 661,
    "start_time": "2021-07-23T10:37:54.959Z"
   },
   {
    "duration": 4,
    "start_time": "2021-07-23T10:37:55.623Z"
   },
   {
    "duration": 40,
    "start_time": "2021-07-23T10:37:55.629Z"
   },
   {
    "duration": 7,
    "start_time": "2021-07-23T10:37:55.672Z"
   },
   {
    "duration": 648,
    "start_time": "2021-07-23T10:37:55.681Z"
   },
   {
    "duration": 714,
    "start_time": "2021-07-23T10:37:56.332Z"
   },
   {
    "duration": 716,
    "start_time": "2021-07-23T10:37:57.056Z"
   },
   {
    "duration": 22328,
    "start_time": "2021-07-23T10:37:57.774Z"
   },
   {
    "duration": 194228,
    "start_time": "2021-07-23T10:38:20.105Z"
   },
   {
    "duration": 180,
    "start_time": "2021-07-23T10:41:34.336Z"
   },
   {
    "duration": 850,
    "start_time": "2021-07-23T10:41:34.519Z"
   },
   {
    "duration": 1471,
    "start_time": "2021-07-23T14:39:22.208Z"
   },
   {
    "duration": 68,
    "start_time": "2021-07-23T14:39:26.066Z"
   },
   {
    "duration": 18,
    "start_time": "2021-07-23T14:39:28.259Z"
   },
   {
    "duration": 618,
    "start_time": "2021-07-23T14:39:30.354Z"
   },
   {
    "duration": 5,
    "start_time": "2021-07-23T14:39:33.872Z"
   },
   {
    "duration": 18,
    "start_time": "2021-07-23T14:39:36.000Z"
   },
   {
    "duration": 482,
    "start_time": "2021-07-23T14:39:43.720Z"
   },
   {
    "duration": 394,
    "start_time": "2021-07-23T14:39:51.715Z"
   },
   {
    "duration": 399,
    "start_time": "2021-07-23T14:40:36.557Z"
   },
   {
    "duration": 8423,
    "start_time": "2021-07-23T14:43:59.816Z"
   },
   {
    "duration": 4797,
    "start_time": "2021-07-23T14:57:36.645Z"
   },
   {
    "duration": 4806,
    "start_time": "2021-07-23T14:57:56.897Z"
   },
   {
    "duration": 108,
    "start_time": "2021-07-23T15:01:49.228Z"
   },
   {
    "duration": 111,
    "start_time": "2021-07-23T15:02:56.693Z"
   },
   {
    "duration": 108,
    "start_time": "2021-07-23T15:03:05.740Z"
   },
   {
    "duration": 96,
    "start_time": "2021-07-23T15:04:57.674Z"
   },
   {
    "duration": 111,
    "start_time": "2021-07-23T15:05:05.110Z"
   },
   {
    "duration": 60,
    "start_time": "2021-07-23T15:05:28.883Z"
   },
   {
    "duration": 106,
    "start_time": "2021-07-23T15:06:27.872Z"
   },
   {
    "duration": 109,
    "start_time": "2021-07-23T15:06:46.182Z"
   },
   {
    "duration": 86,
    "start_time": "2021-07-23T15:08:53.374Z"
   },
   {
    "duration": 6998,
    "start_time": "2021-07-23T15:08:59.292Z"
   },
   {
    "duration": 111,
    "start_time": "2021-07-23T15:11:13.543Z"
   },
   {
    "duration": 1430,
    "start_time": "2021-07-23T17:39:27.172Z"
   },
   {
    "duration": 63,
    "start_time": "2021-07-23T17:39:30.812Z"
   },
   {
    "duration": 18,
    "start_time": "2021-07-23T17:39:32.597Z"
   },
   {
    "duration": 722,
    "start_time": "2021-07-23T17:39:34.166Z"
   },
   {
    "duration": 5,
    "start_time": "2021-07-23T17:39:36.585Z"
   },
   {
    "duration": 20,
    "start_time": "2021-07-23T17:39:38.025Z"
   },
   {
    "duration": 164,
    "start_time": "2021-07-23T17:39:58.249Z"
   },
   {
    "duration": 111,
    "start_time": "2021-07-23T17:41:35.750Z"
   },
   {
    "duration": 6952,
    "start_time": "2021-07-23T17:42:01.777Z"
   },
   {
    "duration": 114,
    "start_time": "2021-07-23T17:42:16.221Z"
   },
   {
    "duration": 101,
    "start_time": "2021-07-23T17:44:12.233Z"
   },
   {
    "duration": 102,
    "start_time": "2021-07-23T17:45:05.914Z"
   },
   {
    "duration": 97,
    "start_time": "2021-07-23T17:47:26.885Z"
   },
   {
    "duration": 103,
    "start_time": "2021-07-23T17:47:34.537Z"
   },
   {
    "duration": 105,
    "start_time": "2021-07-23T17:47:38.502Z"
   },
   {
    "duration": 97,
    "start_time": "2021-07-23T17:47:41.874Z"
   },
   {
    "duration": 103,
    "start_time": "2021-07-23T17:47:48.015Z"
   },
   {
    "duration": 133,
    "start_time": "2021-07-23T17:47:52.108Z"
   },
   {
    "duration": 101,
    "start_time": "2021-07-23T17:48:15.369Z"
   },
   {
    "duration": 95,
    "start_time": "2021-07-23T17:48:39.006Z"
   },
   {
    "duration": 101,
    "start_time": "2021-07-23T17:48:47.715Z"
   },
   {
    "duration": 100,
    "start_time": "2021-07-23T17:48:51.945Z"
   },
   {
    "duration": 357,
    "start_time": "2021-07-23T17:49:15.768Z"
   },
   {
    "duration": 130,
    "start_time": "2021-07-23T17:49:23.211Z"
   },
   {
    "duration": 81,
    "start_time": "2021-07-23T17:49:34.515Z"
   },
   {
    "duration": 354,
    "start_time": "2021-07-23T17:49:37.262Z"
   },
   {
    "duration": 392,
    "start_time": "2021-07-23T17:52:25.782Z"
   },
   {
    "duration": 100,
    "start_time": "2021-07-23T17:53:19.077Z"
   },
   {
    "duration": 422,
    "start_time": "2021-07-23T17:53:24.920Z"
   },
   {
    "duration": 112,
    "start_time": "2021-07-23T17:53:28.931Z"
   },
   {
    "duration": 373,
    "start_time": "2021-07-23T17:53:31.815Z"
   },
   {
    "duration": 363,
    "start_time": "2021-07-23T17:53:36.455Z"
   },
   {
    "duration": 411,
    "start_time": "2021-07-23T17:55:25.070Z"
   },
   {
    "duration": 99,
    "start_time": "2021-07-23T17:55:36.798Z"
   },
   {
    "duration": 100,
    "start_time": "2021-07-23T17:55:47.407Z"
   },
   {
    "duration": 352,
    "start_time": "2021-07-23T17:56:13.380Z"
   },
   {
    "duration": 102,
    "start_time": "2021-07-23T17:56:34.242Z"
   },
   {
    "duration": 551,
    "start_time": "2021-07-23T17:57:29.805Z"
   },
   {
    "duration": 102,
    "start_time": "2021-07-23T17:58:43.595Z"
   },
   {
    "duration": 100,
    "start_time": "2021-07-23T17:58:57.986Z"
   },
   {
    "duration": 357,
    "start_time": "2021-07-23T17:59:08.135Z"
   },
   {
    "duration": 100,
    "start_time": "2021-07-23T18:00:17.059Z"
   },
   {
    "duration": 103,
    "start_time": "2021-07-23T18:09:02.344Z"
   },
   {
    "duration": 29,
    "start_time": "2021-07-23T18:12:41.460Z"
   },
   {
    "duration": 348,
    "start_time": "2021-07-23T18:12:55.503Z"
   },
   {
    "duration": 361,
    "start_time": "2021-07-23T18:13:12.042Z"
   },
   {
    "duration": 108,
    "start_time": "2021-07-23T18:13:30.147Z"
   },
   {
    "duration": 97,
    "start_time": "2021-07-23T18:13:33.887Z"
   },
   {
    "duration": 102,
    "start_time": "2021-07-23T18:13:37.246Z"
   },
   {
    "duration": 100,
    "start_time": "2021-07-23T18:13:38.545Z"
   },
   {
    "duration": 99,
    "start_time": "2021-07-23T18:13:39.328Z"
   },
   {
    "duration": 96,
    "start_time": "2021-07-23T18:13:39.638Z"
   },
   {
    "duration": 107,
    "start_time": "2021-07-23T18:13:39.856Z"
   },
   {
    "duration": 100,
    "start_time": "2021-07-23T18:13:40.204Z"
   },
   {
    "duration": 100,
    "start_time": "2021-07-23T18:14:10.115Z"
   },
   {
    "duration": 360,
    "start_time": "2021-07-23T18:14:20.988Z"
   },
   {
    "duration": 98,
    "start_time": "2021-07-23T18:14:25.880Z"
   },
   {
    "duration": 7,
    "start_time": "2021-07-23T18:14:29.015Z"
   },
   {
    "duration": 113,
    "start_time": "2021-07-23T18:15:02.506Z"
   },
   {
    "duration": 101,
    "start_time": "2021-07-23T18:15:26.767Z"
   },
   {
    "duration": 102,
    "start_time": "2021-07-23T18:15:35.266Z"
   },
   {
    "duration": 355,
    "start_time": "2021-07-23T18:17:07.504Z"
   },
   {
    "duration": 101,
    "start_time": "2021-07-23T18:19:05.827Z"
   },
   {
    "duration": 98,
    "start_time": "2021-07-23T18:20:54.402Z"
   },
   {
    "duration": 102,
    "start_time": "2021-07-23T18:20:59.934Z"
   },
   {
    "duration": 102,
    "start_time": "2021-07-23T18:27:03.854Z"
   },
   {
    "duration": 101,
    "start_time": "2021-07-23T18:27:15.304Z"
   },
   {
    "duration": 5,
    "start_time": "2021-07-23T18:27:47.421Z"
   },
   {
    "duration": 96,
    "start_time": "2021-07-23T18:28:09.871Z"
   },
   {
    "duration": 95,
    "start_time": "2021-07-23T18:28:14.439Z"
   },
   {
    "duration": 94,
    "start_time": "2021-07-23T18:28:27.565Z"
   },
   {
    "duration": 107,
    "start_time": "2021-07-23T18:29:01.494Z"
   },
   {
    "duration": 556,
    "start_time": "2021-07-23T18:29:23.452Z"
   },
   {
    "duration": 100,
    "start_time": "2021-07-23T18:29:29.220Z"
   },
   {
    "duration": 101,
    "start_time": "2021-07-23T18:31:46.739Z"
   },
   {
    "duration": 103,
    "start_time": "2021-07-23T18:31:49.996Z"
   },
   {
    "duration": 378,
    "start_time": "2021-07-23T18:32:06.802Z"
   },
   {
    "duration": 103,
    "start_time": "2021-07-23T18:32:18.598Z"
   },
   {
    "duration": 268,
    "start_time": "2021-07-23T18:32:21.494Z"
   },
   {
    "duration": 6262,
    "start_time": "2021-07-23T18:32:55.122Z"
   },
   {
    "duration": 96,
    "start_time": "2021-07-23T18:33:12.865Z"
   },
   {
    "duration": 263,
    "start_time": "2021-07-23T18:33:15.176Z"
   },
   {
    "duration": 83,
    "start_time": "2021-07-23T18:33:24.880Z"
   },
   {
    "duration": 37,
    "start_time": "2021-07-23T18:33:26.209Z"
   },
   {
    "duration": 263,
    "start_time": "2021-07-23T18:33:40.330Z"
   },
   {
    "duration": 6,
    "start_time": "2021-07-23T18:33:45.150Z"
   },
   {
    "duration": 6546,
    "start_time": "2021-07-23T18:34:06.299Z"
   },
   {
    "duration": 305,
    "start_time": "2021-07-23T18:34:53.922Z"
   },
   {
    "duration": 18,
    "start_time": "2021-07-23T18:35:06.439Z"
   },
   {
    "duration": 36,
    "start_time": "2021-07-23T18:35:45.530Z"
   },
   {
    "duration": 102,
    "start_time": "2021-07-23T18:35:54.749Z"
   },
   {
    "duration": 6734,
    "start_time": "2021-07-23T18:35:58.158Z"
   },
   {
    "duration": 8,
    "start_time": "2021-07-23T18:36:15.283Z"
   },
   {
    "duration": 373,
    "start_time": "2021-07-23T18:41:50.311Z"
   },
   {
    "duration": 119,
    "start_time": "2021-07-23T18:42:14.846Z"
   },
   {
    "duration": 397,
    "start_time": "2021-07-23T18:42:19.571Z"
   },
   {
    "duration": 97,
    "start_time": "2021-07-23T18:42:30.672Z"
   },
   {
    "duration": 376,
    "start_time": "2021-07-23T18:42:46.305Z"
   },
   {
    "duration": 98,
    "start_time": "2021-07-23T18:43:31.907Z"
   },
   {
    "duration": 255,
    "start_time": "2021-07-23T18:43:37.292Z"
   },
   {
    "duration": 280,
    "start_time": "2021-07-23T18:44:28.717Z"
   },
   {
    "duration": 29,
    "start_time": "2021-07-23T18:47:26.645Z"
   },
   {
    "duration": 32,
    "start_time": "2021-07-23T18:47:43.357Z"
   },
   {
    "duration": 321,
    "start_time": "2021-07-23T18:49:44.927Z"
   },
   {
    "duration": 31,
    "start_time": "2021-07-23T18:49:47.703Z"
   },
   {
    "duration": 19,
    "start_time": "2021-07-23T18:51:12.218Z"
   },
   {
    "duration": 105,
    "start_time": "2021-07-23T18:52:03.457Z"
   },
   {
    "duration": 18,
    "start_time": "2021-07-23T18:52:05.301Z"
   },
   {
    "duration": 102,
    "start_time": "2021-07-23T18:53:32.117Z"
   },
   {
    "duration": 36,
    "start_time": "2021-07-23T18:53:42.072Z"
   },
   {
    "duration": 334,
    "start_time": "2021-07-23T18:53:53.093Z"
   },
   {
    "duration": 102,
    "start_time": "2021-07-23T18:54:02.176Z"
   },
   {
    "duration": 452,
    "start_time": "2021-07-23T18:54:06.659Z"
   },
   {
    "duration": 106,
    "start_time": "2021-07-23T18:55:06.543Z"
   },
   {
    "duration": 377,
    "start_time": "2021-07-23T18:55:44.920Z"
   },
   {
    "duration": 357,
    "start_time": "2021-07-23T18:55:48.680Z"
   },
   {
    "duration": 97,
    "start_time": "2021-07-23T18:56:08.024Z"
   },
   {
    "duration": 100,
    "start_time": "2021-07-23T18:56:11.182Z"
   },
   {
    "duration": 23,
    "start_time": "2021-07-23T18:56:27.456Z"
   },
   {
    "duration": 26,
    "start_time": "2021-07-23T18:57:27.676Z"
   },
   {
    "duration": 12,
    "start_time": "2021-07-23T19:06:43.908Z"
   },
   {
    "duration": 275,
    "start_time": "2021-07-23T19:08:57.457Z"
   },
   {
    "duration": 4,
    "start_time": "2021-07-23T19:09:09.999Z"
   },
   {
    "duration": 35579,
    "start_time": "2021-07-23T19:09:18.809Z"
   },
   {
    "duration": 911,
    "start_time": "2021-07-23T19:10:02.590Z"
   },
   {
    "duration": 724068,
    "start_time": "2021-07-23T19:12:08.256Z"
   },
   {
    "duration": 1598712,
    "start_time": "2021-07-23T19:25:33.082Z"
   },
   {
    "duration": 101,
    "start_time": "2021-07-23T19:53:23.039Z"
   },
   {
    "duration": 22,
    "start_time": "2021-07-23T19:53:25.515Z"
   },
   {
    "duration": 12,
    "start_time": "2021-07-23T19:53:29.179Z"
   },
   {
    "duration": 99,
    "start_time": "2021-07-23T19:53:31.149Z"
   },
   {
    "duration": 152116,
    "start_time": "2021-07-23T19:53:36.946Z"
   },
   {
    "duration": 9,
    "start_time": "2021-07-23T20:01:01.682Z"
   },
   {
    "duration": 17,
    "start_time": "2021-07-23T20:01:05.455Z"
   },
   {
    "duration": 114,
    "start_time": "2021-07-23T20:01:07.973Z"
   },
   {
    "duration": 19,
    "start_time": "2021-07-23T20:01:26.210Z"
   },
   {
    "duration": 17,
    "start_time": "2021-07-23T20:01:28.926Z"
   },
   {
    "duration": 289,
    "start_time": "2021-07-23T20:01:40.611Z"
   },
   {
    "duration": 111,
    "start_time": "2021-07-23T20:01:54.978Z"
   },
   {
    "duration": 109,
    "start_time": "2021-07-23T20:03:02.580Z"
   },
   {
    "duration": 21,
    "start_time": "2021-07-23T20:03:05.571Z"
   },
   {
    "duration": 12,
    "start_time": "2021-07-23T20:03:08.260Z"
   },
   {
    "duration": 64,
    "start_time": "2021-07-23T20:03:10.581Z"
   },
   {
    "duration": 94676,
    "start_time": "2021-07-23T20:03:16.389Z"
   },
   {
    "duration": 10,
    "start_time": "2021-07-23T20:05:13.692Z"
   },
   {
    "duration": 13,
    "start_time": "2021-07-23T20:05:17.104Z"
   },
   {
    "duration": 338,
    "start_time": "2021-07-23T20:05:24.641Z"
   },
   {
    "duration": 97,
    "start_time": "2021-07-23T20:05:34.628Z"
   },
   {
    "duration": 25,
    "start_time": "2021-07-23T20:05:36.333Z"
   },
   {
    "duration": 14,
    "start_time": "2021-07-23T20:05:38.527Z"
   },
   {
    "duration": 116,
    "start_time": "2021-07-23T20:05:40.906Z"
   },
   {
    "duration": 184247,
    "start_time": "2021-07-23T20:05:47.135Z"
   },
   {
    "duration": 396,
    "start_time": "2021-07-23T20:09:19.015Z"
   },
   {
    "duration": 10,
    "start_time": "2021-07-23T20:09:23.133Z"
   },
   {
    "duration": 19,
    "start_time": "2021-07-23T20:09:24.963Z"
   },
   {
    "duration": 146,
    "start_time": "2021-07-23T20:09:26.522Z"
   },
   {
    "duration": 109,
    "start_time": "2021-07-23T20:09:39.757Z"
   },
   {
    "duration": 27,
    "start_time": "2021-07-23T20:09:43.520Z"
   },
   {
    "duration": 12,
    "start_time": "2021-07-23T20:09:47.753Z"
   },
   {
    "duration": 131,
    "start_time": "2021-07-23T20:09:50.204Z"
   },
   {
    "duration": 209506,
    "start_time": "2021-07-23T20:09:55.984Z"
   },
   {
    "duration": 660,
    "start_time": "2021-07-23T20:13:44.211Z"
   },
   {
    "duration": 10,
    "start_time": "2021-07-23T20:13:47.630Z"
   },
   {
    "duration": 449,
    "start_time": "2021-07-23T20:13:49.745Z"
   },
   {
    "duration": 99,
    "start_time": "2021-07-23T20:14:17.992Z"
   },
   {
    "duration": 29,
    "start_time": "2021-07-23T20:14:29.934Z"
   },
   {
    "duration": 12,
    "start_time": "2021-07-23T20:14:36.051Z"
   },
   {
    "duration": 176,
    "start_time": "2021-07-23T20:14:38.211Z"
   },
   {
    "duration": 286168,
    "start_time": "2021-07-23T20:14:47.928Z"
   },
   {
    "duration": 11,
    "start_time": "2021-07-23T20:19:43.447Z"
   },
   {
    "duration": 2600,
    "start_time": "2021-07-23T20:19:49.598Z"
   },
   {
    "duration": 35,
    "start_time": "2021-07-23T20:22:24.764Z"
   },
   {
    "duration": 11,
    "start_time": "2021-07-23T20:22:31.388Z"
   },
   {
    "duration": 31,
    "start_time": "2021-07-23T20:22:33.608Z"
   },
   {
    "duration": 103,
    "start_time": "2021-07-23T20:31:08.920Z"
   },
   {
    "duration": 2595,
    "start_time": "2021-07-23T20:32:50.678Z"
   }
  ],
  "kernelspec": {
   "display_name": "Python 3",
   "language": "python",
   "name": "python3"
  },
  "language_info": {
   "codemirror_mode": {
    "name": "ipython",
    "version": 3
   },
   "file_extension": ".py",
   "mimetype": "text/x-python",
   "name": "python",
   "nbconvert_exporter": "python",
   "pygments_lexer": "ipython3",
   "version": "3.8.8"
  },
  "toc": {
   "base_numbering": 1,
   "nav_menu": {},
   "number_sections": true,
   "sideBar": true,
   "skip_h1_title": true,
   "title_cell": "Содержание",
   "title_sidebar": "Contents",
   "toc_cell": true,
   "toc_position": {},
   "toc_section_display": true,
   "toc_window_display": false
  }
 },
 "nbformat": 4,
 "nbformat_minor": 2
}
